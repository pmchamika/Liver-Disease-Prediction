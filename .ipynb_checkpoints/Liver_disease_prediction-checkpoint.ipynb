{
 "cells": [
  {
   "cell_type": "code",
   "execution_count": 23,
   "metadata": {},
   "outputs": [],
   "source": [
    "# Importing all necessary libraries\n",
    "# Using numpy library for linear algebra\n",
    "import numpy as np\n",
    "# Using Panda library data manipulation of the dataset\n",
    "import pandas as pd\n",
    "# Using pylab library to plot 2D graphs\n",
    "import pylab as pl"
   ]
  },
  {
   "cell_type": "code",
   "execution_count": 24,
   "metadata": {},
   "outputs": [],
   "source": [
    "# import sklearn decision tree library\n",
    "from sklearn import tree"
   ]
  },
  {
   "cell_type": "code",
   "execution_count": 25,
   "metadata": {},
   "outputs": [],
   "source": [
    "# import sklearn preprocessing library\n",
    "from sklearn import preprocessing"
   ]
  },
  {
   "cell_type": "code",
   "execution_count": 26,
   "metadata": {},
   "outputs": [],
   "source": [
    "# import the dataset in the liver-disease-lab-data.csv file\n",
    "data = pd.read_csv('/Users/Chamika Prabath/Desktop/ML assesment/IT17056212/dataset/liver-disease-lab-data.csv')"
   ]
  },
  {
   "cell_type": "code",
   "execution_count": 27,
   "metadata": {},
   "outputs": [
    {
     "data": {
      "text/plain": [
       "Age                                 483\n",
       "Gender                              483\n",
       "Total_Bilirubin                     483\n",
       "Direct_Bilirubin                    483\n",
       "Alkaline_Phosphotase                483\n",
       "Alamine_Aminotransferase            483\n",
       "Aspartate_Aminotransferase          483\n",
       "Total_Protiens                      483\n",
       "Albumin                             483\n",
       "Albumin_and_Globulin_Ratio          480\n",
       "Liver disease? (1 = yes, 0 = no)    483\n",
       "dtype: int64"
      ]
     },
     "execution_count": 27,
     "metadata": {},
     "output_type": "execute_result"
    }
   ],
   "source": [
    "# count no of data in each attribute\n",
    "data.count() "
   ]
  },
  {
   "cell_type": "code",
   "execution_count": 28,
   "metadata": {},
   "outputs": [
    {
     "data": {
      "text/plain": [
       "Age                                 0\n",
       "Gender                              0\n",
       "Total_Bilirubin                     0\n",
       "Direct_Bilirubin                    0\n",
       "Alkaline_Phosphotase                0\n",
       "Alamine_Aminotransferase            0\n",
       "Aspartate_Aminotransferase          0\n",
       "Total_Protiens                      0\n",
       "Albumin                             0\n",
       "Albumin_and_Globulin_Ratio          0\n",
       "Liver disease? (1 = yes, 0 = no)    0\n",
       "dtype: int64"
      ]
     },
     "execution_count": 28,
     "metadata": {},
     "output_type": "execute_result"
    }
   ],
   "source": [
    "# Removing any rows with missing values\n",
    "data=data.dropna(axis=0, how='any', thresh=None, subset=None, inplace=False)\n",
    "# no of missing data in each attribute\n",
    "data.isnull().sum()"
   ]
  },
  {
   "cell_type": "code",
   "execution_count": 29,
   "metadata": {},
   "outputs": [
    {
     "data": {
      "text/plain": [
       "Age                                 480\n",
       "Gender                              480\n",
       "Total_Bilirubin                     480\n",
       "Direct_Bilirubin                    480\n",
       "Alkaline_Phosphotase                480\n",
       "Alamine_Aminotransferase            480\n",
       "Aspartate_Aminotransferase          480\n",
       "Total_Protiens                      480\n",
       "Albumin                             480\n",
       "Albumin_and_Globulin_Ratio          480\n",
       "Liver disease? (1 = yes, 0 = no)    480\n",
       "dtype: int64"
      ]
     },
     "execution_count": 29,
     "metadata": {},
     "output_type": "execute_result"
    }
   ],
   "source": [
    "data.count()"
   ]
  },
  {
   "cell_type": "code",
   "execution_count": 30,
   "metadata": {},
   "outputs": [
    {
     "data": {
      "text/html": [
       "<div>\n",
       "<style scoped>\n",
       "    .dataframe tbody tr th:only-of-type {\n",
       "        vertical-align: middle;\n",
       "    }\n",
       "\n",
       "    .dataframe tbody tr th {\n",
       "        vertical-align: top;\n",
       "    }\n",
       "\n",
       "    .dataframe thead th {\n",
       "        text-align: right;\n",
       "    }\n",
       "</style>\n",
       "<table border=\"1\" class=\"dataframe\">\n",
       "  <thead>\n",
       "    <tr style=\"text-align: right;\">\n",
       "      <th></th>\n",
       "      <th>Age</th>\n",
       "      <th>Gender</th>\n",
       "      <th>Total_Bilirubin</th>\n",
       "      <th>Direct_Bilirubin</th>\n",
       "      <th>Alkaline_Phosphotase</th>\n",
       "      <th>Alamine_Aminotransferase</th>\n",
       "      <th>Aspartate_Aminotransferase</th>\n",
       "      <th>Total_Protiens</th>\n",
       "      <th>Albumin</th>\n",
       "      <th>Albumin_and_Globulin_Ratio</th>\n",
       "      <th>Liver disease? (1 = yes, 0 = no)</th>\n",
       "    </tr>\n",
       "  </thead>\n",
       "  <tbody>\n",
       "    <tr>\n",
       "      <td>0</td>\n",
       "      <td>65</td>\n",
       "      <td>Female</td>\n",
       "      <td>0.7</td>\n",
       "      <td>0.1</td>\n",
       "      <td>187</td>\n",
       "      <td>16</td>\n",
       "      <td>18</td>\n",
       "      <td>6.8</td>\n",
       "      <td>3.3</td>\n",
       "      <td>0.90</td>\n",
       "      <td>1</td>\n",
       "    </tr>\n",
       "    <tr>\n",
       "      <td>1</td>\n",
       "      <td>62</td>\n",
       "      <td>Male</td>\n",
       "      <td>10.9</td>\n",
       "      <td>5.5</td>\n",
       "      <td>699</td>\n",
       "      <td>64</td>\n",
       "      <td>100</td>\n",
       "      <td>7.5</td>\n",
       "      <td>3.2</td>\n",
       "      <td>0.74</td>\n",
       "      <td>1</td>\n",
       "    </tr>\n",
       "    <tr>\n",
       "      <td>2</td>\n",
       "      <td>62</td>\n",
       "      <td>Male</td>\n",
       "      <td>7.3</td>\n",
       "      <td>4.1</td>\n",
       "      <td>490</td>\n",
       "      <td>60</td>\n",
       "      <td>68</td>\n",
       "      <td>7.0</td>\n",
       "      <td>3.3</td>\n",
       "      <td>0.89</td>\n",
       "      <td>1</td>\n",
       "    </tr>\n",
       "    <tr>\n",
       "      <td>3</td>\n",
       "      <td>58</td>\n",
       "      <td>Male</td>\n",
       "      <td>1.0</td>\n",
       "      <td>0.4</td>\n",
       "      <td>182</td>\n",
       "      <td>14</td>\n",
       "      <td>20</td>\n",
       "      <td>6.8</td>\n",
       "      <td>3.4</td>\n",
       "      <td>1.00</td>\n",
       "      <td>1</td>\n",
       "    </tr>\n",
       "    <tr>\n",
       "      <td>4</td>\n",
       "      <td>72</td>\n",
       "      <td>Male</td>\n",
       "      <td>3.9</td>\n",
       "      <td>2.0</td>\n",
       "      <td>195</td>\n",
       "      <td>27</td>\n",
       "      <td>59</td>\n",
       "      <td>7.3</td>\n",
       "      <td>2.4</td>\n",
       "      <td>0.40</td>\n",
       "      <td>1</td>\n",
       "    </tr>\n",
       "  </tbody>\n",
       "</table>\n",
       "</div>"
      ],
      "text/plain": [
       "   Age  Gender  Total_Bilirubin  Direct_Bilirubin  Alkaline_Phosphotase  \\\n",
       "0   65  Female              0.7               0.1                   187   \n",
       "1   62    Male             10.9               5.5                   699   \n",
       "2   62    Male              7.3               4.1                   490   \n",
       "3   58    Male              1.0               0.4                   182   \n",
       "4   72    Male              3.9               2.0                   195   \n",
       "\n",
       "   Alamine_Aminotransferase  Aspartate_Aminotransferase  Total_Protiens  \\\n",
       "0                        16                          18             6.8   \n",
       "1                        64                         100             7.5   \n",
       "2                        60                          68             7.0   \n",
       "3                        14                          20             6.8   \n",
       "4                        27                          59             7.3   \n",
       "\n",
       "   Albumin  Albumin_and_Globulin_Ratio  Liver disease? (1 = yes, 0 = no)  \n",
       "0      3.3                        0.90                                 1  \n",
       "1      3.2                        0.74                                 1  \n",
       "2      3.3                        0.89                                 1  \n",
       "3      3.4                        1.00                                 1  \n",
       "4      2.4                        0.40                                 1  "
      ]
     },
     "execution_count": 30,
     "metadata": {},
     "output_type": "execute_result"
    }
   ],
   "source": [
    "# Display all the data\n",
    "data.head() "
   ]
  },
  {
   "cell_type": "code",
   "execution_count": 31,
   "metadata": {},
   "outputs": [
    {
     "data": {
      "text/html": [
       "<div>\n",
       "<style scoped>\n",
       "    .dataframe tbody tr th:only-of-type {\n",
       "        vertical-align: middle;\n",
       "    }\n",
       "\n",
       "    .dataframe tbody tr th {\n",
       "        vertical-align: top;\n",
       "    }\n",
       "\n",
       "    .dataframe thead th {\n",
       "        text-align: right;\n",
       "    }\n",
       "</style>\n",
       "<table border=\"1\" class=\"dataframe\">\n",
       "  <thead>\n",
       "    <tr style=\"text-align: right;\">\n",
       "      <th></th>\n",
       "      <th>Age</th>\n",
       "      <th>Total_Bilirubin</th>\n",
       "      <th>Direct_Bilirubin</th>\n",
       "      <th>Alkaline_Phosphotase</th>\n",
       "      <th>Alamine_Aminotransferase</th>\n",
       "      <th>Aspartate_Aminotransferase</th>\n",
       "      <th>Total_Protiens</th>\n",
       "      <th>Albumin</th>\n",
       "      <th>Albumin_and_Globulin_Ratio</th>\n",
       "      <th>Liver disease? (1 = yes, 0 = no)</th>\n",
       "    </tr>\n",
       "  </thead>\n",
       "  <tbody>\n",
       "    <tr>\n",
       "      <td>count</td>\n",
       "      <td>480.000000</td>\n",
       "      <td>480.000000</td>\n",
       "      <td>480.000000</td>\n",
       "      <td>480.000000</td>\n",
       "      <td>480.000000</td>\n",
       "      <td>480.000000</td>\n",
       "      <td>480.000000</td>\n",
       "      <td>480.000000</td>\n",
       "      <td>480.000000</td>\n",
       "      <td>480.000000</td>\n",
       "    </tr>\n",
       "    <tr>\n",
       "      <td>mean</td>\n",
       "      <td>44.779167</td>\n",
       "      <td>3.313958</td>\n",
       "      <td>1.473125</td>\n",
       "      <td>288.141667</td>\n",
       "      <td>72.437500</td>\n",
       "      <td>95.006250</td>\n",
       "      <td>6.474375</td>\n",
       "      <td>3.139375</td>\n",
       "      <td>0.953583</td>\n",
       "      <td>0.720833</td>\n",
       "    </tr>\n",
       "    <tr>\n",
       "      <td>std</td>\n",
       "      <td>16.288282</td>\n",
       "      <td>6.375075</td>\n",
       "      <td>2.790673</td>\n",
       "      <td>232.805295</td>\n",
       "      <td>149.161107</td>\n",
       "      <td>165.710887</td>\n",
       "      <td>1.089286</td>\n",
       "      <td>0.795401</td>\n",
       "      <td>0.327034</td>\n",
       "      <td>0.449058</td>\n",
       "    </tr>\n",
       "    <tr>\n",
       "      <td>min</td>\n",
       "      <td>4.000000</td>\n",
       "      <td>0.400000</td>\n",
       "      <td>0.100000</td>\n",
       "      <td>75.000000</td>\n",
       "      <td>10.000000</td>\n",
       "      <td>10.000000</td>\n",
       "      <td>2.700000</td>\n",
       "      <td>0.900000</td>\n",
       "      <td>0.300000</td>\n",
       "      <td>0.000000</td>\n",
       "    </tr>\n",
       "    <tr>\n",
       "      <td>25%</td>\n",
       "      <td>33.000000</td>\n",
       "      <td>0.800000</td>\n",
       "      <td>0.200000</td>\n",
       "      <td>174.750000</td>\n",
       "      <td>23.000000</td>\n",
       "      <td>25.000000</td>\n",
       "      <td>5.775000</td>\n",
       "      <td>2.600000</td>\n",
       "      <td>0.700000</td>\n",
       "      <td>0.000000</td>\n",
       "    </tr>\n",
       "    <tr>\n",
       "      <td>50%</td>\n",
       "      <td>45.000000</td>\n",
       "      <td>1.000000</td>\n",
       "      <td>0.300000</td>\n",
       "      <td>206.000000</td>\n",
       "      <td>34.500000</td>\n",
       "      <td>41.000000</td>\n",
       "      <td>6.500000</td>\n",
       "      <td>3.100000</td>\n",
       "      <td>0.965000</td>\n",
       "      <td>1.000000</td>\n",
       "    </tr>\n",
       "    <tr>\n",
       "      <td>75%</td>\n",
       "      <td>57.250000</td>\n",
       "      <td>2.600000</td>\n",
       "      <td>1.300000</td>\n",
       "      <td>298.000000</td>\n",
       "      <td>58.000000</td>\n",
       "      <td>83.500000</td>\n",
       "      <td>7.200000</td>\n",
       "      <td>3.800000</td>\n",
       "      <td>1.100000</td>\n",
       "      <td>1.000000</td>\n",
       "    </tr>\n",
       "    <tr>\n",
       "      <td>max</td>\n",
       "      <td>90.000000</td>\n",
       "      <td>75.000000</td>\n",
       "      <td>19.700000</td>\n",
       "      <td>2110.000000</td>\n",
       "      <td>1680.000000</td>\n",
       "      <td>1500.000000</td>\n",
       "      <td>9.600000</td>\n",
       "      <td>5.500000</td>\n",
       "      <td>2.800000</td>\n",
       "      <td>1.000000</td>\n",
       "    </tr>\n",
       "  </tbody>\n",
       "</table>\n",
       "</div>"
      ],
      "text/plain": [
       "              Age  Total_Bilirubin  Direct_Bilirubin  Alkaline_Phosphotase  \\\n",
       "count  480.000000       480.000000        480.000000            480.000000   \n",
       "mean    44.779167         3.313958          1.473125            288.141667   \n",
       "std     16.288282         6.375075          2.790673            232.805295   \n",
       "min      4.000000         0.400000          0.100000             75.000000   \n",
       "25%     33.000000         0.800000          0.200000            174.750000   \n",
       "50%     45.000000         1.000000          0.300000            206.000000   \n",
       "75%     57.250000         2.600000          1.300000            298.000000   \n",
       "max     90.000000        75.000000         19.700000           2110.000000   \n",
       "\n",
       "       Alamine_Aminotransferase  Aspartate_Aminotransferase  Total_Protiens  \\\n",
       "count                480.000000                  480.000000      480.000000   \n",
       "mean                  72.437500                   95.006250        6.474375   \n",
       "std                  149.161107                  165.710887        1.089286   \n",
       "min                   10.000000                   10.000000        2.700000   \n",
       "25%                   23.000000                   25.000000        5.775000   \n",
       "50%                   34.500000                   41.000000        6.500000   \n",
       "75%                   58.000000                   83.500000        7.200000   \n",
       "max                 1680.000000                 1500.000000        9.600000   \n",
       "\n",
       "          Albumin  Albumin_and_Globulin_Ratio  \\\n",
       "count  480.000000                  480.000000   \n",
       "mean     3.139375                    0.953583   \n",
       "std      0.795401                    0.327034   \n",
       "min      0.900000                    0.300000   \n",
       "25%      2.600000                    0.700000   \n",
       "50%      3.100000                    0.965000   \n",
       "75%      3.800000                    1.100000   \n",
       "max      5.500000                    2.800000   \n",
       "\n",
       "       Liver disease? (1 = yes, 0 = no)  \n",
       "count                        480.000000  \n",
       "mean                           0.720833  \n",
       "std                            0.449058  \n",
       "min                            0.000000  \n",
       "25%                            0.000000  \n",
       "50%                            1.000000  \n",
       "75%                            1.000000  \n",
       "max                            1.000000  "
      ]
     },
     "execution_count": 31,
     "metadata": {},
     "output_type": "execute_result"
    }
   ],
   "source": [
    "# Summerize and show statistics of the dataset\n",
    "data.describe() "
   ]
  },
  {
   "cell_type": "code",
   "execution_count": 32,
   "metadata": {},
   "outputs": [],
   "source": [
    "# split datset in to features and outcomes using panda library\n",
    "x=data.iloc[:,[0,1,2,3,4,5,6,7,8,9]]\n",
    "y=data.iloc[:,[10]]"
   ]
  },
  {
   "cell_type": "code",
   "execution_count": 33,
   "metadata": {},
   "outputs": [],
   "source": [
    "# replace Gender attribute data\n",
    "x=x.replace({'Female': 0,'Male':1})"
   ]
  },
  {
   "cell_type": "code",
   "execution_count": 34,
   "metadata": {
    "scrolled": true
   },
   "outputs": [
    {
     "data": {
      "image/png": "[encoded data removed]",
      "text/plain": [
       "<Figure size 432x288 with 1 Axes>"
      ]
     },
     "metadata": {
      "needs_background": "light"
     },
     "output_type": "display_data"
    }
   ],
   "source": [
    "# Visualize histogram of liver disease\n",
    "y.hist()\n",
    "pl.suptitle(\"Histogram of Liver Disease\")\n",
    "pl.savefig('histogram_of_liver_disease_history')\n",
    "pl.show()"
   ]
  },
  {
   "cell_type": "code",
   "execution_count": 35,
   "metadata": {},
   "outputs": [
    {
     "data": {
      "image/png": "[encoded data removed]",
      "text/plain": [
       "<Figure size 864x864 with 12 Axes>"
      ]
     },
     "metadata": {
      "needs_background": "light"
     },
     "output_type": "display_data"
    }
   ],
   "source": [
    "# Visualize histogram for each numeric input variable\n",
    "x.hist(bins=30, figsize=(12,12))\n",
    "pl.suptitle(\"Histogram for each numeric input variable\")\n",
    "pl.savefig('liver_disease_each_numeric_input_variable')\n",
    "pl.show()"
   ]
  },
  {
   "cell_type": "code",
   "execution_count": 36,
   "metadata": {},
   "outputs": [],
   "source": [
    "# import sklearn model_selection library\n",
    "from sklearn.model_selection import train_test_split\n",
    "# Split the data into training and testing sets\n",
    "x_train, x_test, y_train, y_test = train_test_split(x, y, test_size = 0.25, random_state = 42)\n",
    "# Create decision tree classifier model\n",
    "clf_model=tree.DecisionTreeClassifier(criterion='gini', splitter='best',min_samples_split=30)\n",
    "clf_model=clf_model.fit(x_train,y_train)"
   ]
  },
  {
   "cell_type": "code",
   "execution_count": 37,
   "metadata": {},
   "outputs": [
    {
     "name": "stdout",
     "output_type": "stream",
     "text": [
      "Training Features Shape: (360, 10)\n",
      "Training Labels Shape: (360, 1)\n",
      "Testing Features Shape: (120, 10)\n",
      "Testing Labels Shape: (120, 1)\n"
     ]
    }
   ],
   "source": [
    "print('Training Features Shape:', x_train.shape)\n",
    "print('Training Labels Shape:', y_train.shape)\n",
    "print('Testing Features Shape:', x_test.shape)\n",
    "print('Testing Labels Shape:', y_test.shape)"
   ]
  },
  {
   "cell_type": "code",
   "execution_count": 38,
   "metadata": {},
   "outputs": [
    {
     "name": "stdout",
     "output_type": "stream",
     "text": [
      "[0 1 1 1 1 1 1 0 1 1 1 1 1 1 1 1 1 0 1 1 1 1 1 1 1 1 0 1 1 0 1 1 0 0 1 1 0\n",
      " 1 1 1 1 1 1 0 1 1 1 1 1 0 1 1 1 1 1 1 1 1 1 1 1 0 1 1 1 0 1 1 0 0 1 1 1 1\n",
      " 1 0 0 1 1 0 1 0 0 1 0 1 1 1 0 1 1 0 1 0 0 1 1 1 1 1 1 1 1 1 1 1 0 1 1 1 1\n",
      " 1 1 1 1 1 1 0 0 1]\n"
     ]
    }
   ],
   "source": [
    "# Make prediction for the test data\n",
    "prediction=clf_model.predict(x_test)\n",
    "print(prediction)"
   ]
  },
  {
   "cell_type": "code",
   "execution_count": 39,
   "metadata": {},
   "outputs": [
    {
     "name": "stdout",
     "output_type": "stream",
     "text": [
      "Accuracy of the test data: 0.7583333333333333\n"
     ]
    }
   ],
   "source": [
    "# Import sklearn metrics library\n",
    "from sklearn import metrics\n",
    "# calculate accuracy of the test data\n",
    "accuracyscore=metrics.accuracy_score(y_test, prediction)\n",
    "print('Accuracy of the test data:',accuracyscore)"
   ]
  },
  {
   "cell_type": "code",
   "execution_count": 40,
   "metadata": {},
   "outputs": [
    {
     "name": "stdout",
     "output_type": "stream",
     "text": [
      "              precision    recall  f1-score   support\n",
      "\n",
      "    Negative       0.47      0.63      0.54        27\n",
      "    Positive       0.88      0.80      0.84        93\n",
      "\n",
      "    accuracy                           0.76       120\n",
      "   macro avg       0.68      0.71      0.69       120\n",
      "weighted avg       0.79      0.76      0.77       120\n",
      "\n"
     ]
    }
   ],
   "source": [
    "# Display classification report for the predictions\n",
    "print(metrics.classification_report(prediction, y_test,target_names = [\"Negative\",\"Positive\"]))"
   ]
  },
  {
   "cell_type": "code",
   "execution_count": 41,
   "metadata": {},
   "outputs": [
    {
     "data": {
      "text/plain": [
       "[Text(234.36, 210.192, 'X[3] <= 1.25\\ngini = 0.396\\nsamples = 360\\nvalue = [98, 262]'),\n",
       " Text(178.56, 195.696, 'X[5] <= 61.5\\ngini = 0.45\\nsamples = 281\\nvalue = [96, 185]'),\n",
       " Text(133.92000000000002, 181.2, 'X[0] <= 24.5\\ngini = 0.473\\nsamples = 240\\nvalue = [92, 148]'),\n",
       " Text(111.6, 166.704, 'gini = 0.477\\nsamples = 28\\nvalue = [17, 11]'),\n",
       " Text(156.24, 166.704, 'X[4] <= 277.0\\ngini = 0.457\\nsamples = 212\\nvalue = [75, 137]'),\n",
       " Text(133.92000000000002, 152.208, 'X[4] <= 267.5\\ngini = 0.475\\nsamples = 183\\nvalue = [71, 112]'),\n",
       " Text(111.6, 137.712, 'X[5] <= 11.0\\ngini = 0.47\\nsamples = 180\\nvalue = [68, 112]'),\n",
       " Text(89.28, 123.216, 'gini = 0.0\\nsamples = 3\\nvalue = [3, 0]'),\n",
       " Text(133.92000000000002, 123.216, 'X[2] <= 1.65\\ngini = 0.465\\nsamples = 177\\nvalue = [65, 112]'),\n",
       " Text(111.6, 108.72, 'X[3] <= 0.55\\ngini = 0.478\\nsamples = 157\\nvalue = [62, 95]'),\n",
       " Text(89.28, 94.22399999999999, 'X[4] <= 217.0\\ngini = 0.468\\nsamples = 147\\nvalue = [55, 92]'),\n",
       " Text(66.96000000000001, 79.72799999999998, 'X[0] <= 26.5\\ngini = 0.481\\nsamples = 129\\nvalue = [52, 77]'),\n",
       " Text(44.64, 65.232, 'gini = 0.0\\nsamples = 5\\nvalue = [0, 5]'),\n",
       " Text(89.28, 65.232, 'X[0] <= 44.5\\ngini = 0.487\\nsamples = 124\\nvalue = [52, 72]'),\n",
       " Text(44.64, 50.73599999999999, 'X[6] <= 15.5\\ngini = 0.499\\nsamples = 52\\nvalue = [27, 25]'),\n",
       " Text(22.32, 36.23999999999998, 'gini = 0.0\\nsamples = 4\\nvalue = [0, 4]'),\n",
       " Text(66.96000000000001, 36.23999999999998, 'X[8] <= 3.75\\ngini = 0.492\\nsamples = 48\\nvalue = [27, 21]'),\n",
       " Text(44.64, 21.744, 'X[9] <= 0.96\\ngini = 0.498\\nsamples = 34\\nvalue = [16, 18]'),\n",
       " Text(22.32, 7.2479999999999905, 'gini = 0.391\\nsamples = 15\\nvalue = [11, 4]'),\n",
       " Text(66.96000000000001, 7.2479999999999905, 'gini = 0.388\\nsamples = 19\\nvalue = [5, 14]'),\n",
       " Text(89.28, 21.744, 'gini = 0.337\\nsamples = 14\\nvalue = [11, 3]'),\n",
       " Text(133.92000000000002, 50.73599999999999, 'X[5] <= 19.5\\ngini = 0.453\\nsamples = 72\\nvalue = [25, 47]'),\n",
       " Text(111.6, 36.23999999999998, 'gini = 0.444\\nsamples = 15\\nvalue = [10, 5]'),\n",
       " Text(156.24, 36.23999999999998, 'X[8] <= 2.55\\ngini = 0.388\\nsamples = 57\\nvalue = [15, 42]'),\n",
       " Text(133.92000000000002, 21.744, 'gini = 0.0\\nsamples = 11\\nvalue = [0, 11]'),\n",
       " Text(178.56, 21.744, 'X[0] <= 54.5\\ngini = 0.44\\nsamples = 46\\nvalue = [15, 31]'),\n",
       " Text(156.24, 7.2479999999999905, 'gini = 0.255\\nsamples = 20\\nvalue = [3, 17]'),\n",
       " Text(200.88, 7.2479999999999905, 'gini = 0.497\\nsamples = 26\\nvalue = [12, 14]'),\n",
       " Text(111.6, 79.72799999999998, 'gini = 0.278\\nsamples = 18\\nvalue = [3, 15]'),\n",
       " Text(133.92000000000002, 94.22399999999999, 'gini = 0.42\\nsamples = 10\\nvalue = [7, 3]'),\n",
       " Text(156.24, 108.72, 'gini = 0.255\\nsamples = 20\\nvalue = [3, 17]'),\n",
       " Text(156.24, 137.712, 'gini = 0.0\\nsamples = 3\\nvalue = [3, 0]'),\n",
       " Text(178.56, 152.208, 'gini = 0.238\\nsamples = 29\\nvalue = [4, 25]'),\n",
       " Text(223.2, 181.2, 'X[6] <= 36.5\\ngini = 0.176\\nsamples = 41\\nvalue = [4, 37]'),\n",
       " Text(200.88, 166.704, 'gini = 0.0\\nsamples = 2\\nvalue = [2, 0]'),\n",
       " Text(245.52, 166.704, 'X[2] <= 2.15\\ngini = 0.097\\nsamples = 39\\nvalue = [2, 37]'),\n",
       " Text(223.2, 152.208, 'gini = 0.0\\nsamples = 32\\nvalue = [0, 32]'),\n",
       " Text(267.84000000000003, 152.208, 'gini = 0.408\\nsamples = 7\\nvalue = [2, 5]'),\n",
       " Text(290.16, 195.696, 'X[5] <= 32.5\\ngini = 0.049\\nsamples = 79\\nvalue = [2, 77]'),\n",
       " Text(267.84000000000003, 181.2, 'gini = 0.231\\nsamples = 15\\nvalue = [2, 13]'),\n",
       " Text(312.48, 181.2, 'gini = 0.0\\nsamples = 64\\nvalue = [0, 64]')]"
      ]
     },
     "execution_count": 41,
     "metadata": {},
     "output_type": "execute_result"
    },
    {
     "data": {
      "image/png": "[encoded data removed]",
      "text/plain": [
       "<Figure size 432x288 with 1 Axes>"
      ]
     },
     "metadata": {
      "needs_background": "light"
     },
     "output_type": "display_data"
    }
   ],
   "source": [
    "# Display decision tree\n",
    "tree.plot_tree(clf_model)"
   ]
  },
  {
   "cell_type": "code",
   "execution_count": 42,
   "metadata": {},
   "outputs": [
    {
     "data": {
      "image/png": "[encoded data removed]",
      "text/plain": [
       "<Figure size 432x288 with 2 Axes>"
      ]
     },
     "metadata": {
      "needs_background": "light"
     },
     "output_type": "display_data"
    }
   ],
   "source": [
    "# Import seaborn library\n",
    "import seaborn as sb\n",
    "# Identify the types of errors made by the classifier using confusion matrix\n",
    "mat_data = metrics.confusion_matrix(y_test, prediction) \n",
    "# Create a heatmap for the confusion matrix\n",
    "heat_map = sb.heatmap(mat_data, center=0, annot=True)\n",
    "pl.xlabel('Actual Class')\n",
    "pl.ylabel('Pedicted Class')\n",
    "pl.show()"
   ]
  },
  {
   "cell_type": "code",
   "execution_count": 43,
   "metadata": {},
   "outputs": [],
   "source": [
    "#Calculate Classification Error\n",
    "misclassification_Rate=1 - metrics.accuracy_score(y_test, prediction)"
   ]
  },
  {
   "cell_type": "code",
   "execution_count": 44,
   "metadata": {},
   "outputs": [
    {
     "name": "stdout",
     "output_type": "stream",
     "text": [
      "[[0.56 0.44]\n",
      " [0.21 0.79]\n",
      " [0.11 0.89]\n",
      " [0.62 0.38]\n",
      " [0.44 0.56]\n",
      " [0.16 0.84]\n",
      " [0.05 0.95]\n",
      " [0.59 0.41]\n",
      " [0.01 0.99]\n",
      " [0.35 0.65]\n",
      " [0.06 0.94]\n",
      " [0.43 0.57]\n",
      " [0.26 0.74]\n",
      " [0.64 0.36]\n",
      " [0.06 0.94]\n",
      " [1.   0.  ]\n",
      " [0.49 0.51]\n",
      " [0.58 0.42]\n",
      " [0.31 0.69]\n",
      " [0.55 0.45]\n",
      " [0.04 0.96]\n",
      " [0.06 0.94]\n",
      " [0.31 0.69]\n",
      " [0.02 0.98]\n",
      " [0.28 0.72]\n",
      " [0.1  0.9 ]\n",
      " [0.35 0.65]\n",
      " [0.13 0.87]\n",
      " [0.32 0.68]\n",
      " [0.5  0.5 ]\n",
      " [0.01 0.99]\n",
      " [0.56 0.44]\n",
      " [0.29 0.71]\n",
      " [0.28 0.72]\n",
      " [0.35 0.65]\n",
      " [0.   1.  ]\n",
      " [0.45 0.55]\n",
      " [0.24 0.76]\n",
      " [0.05 0.95]\n",
      " [0.4  0.6 ]\n",
      " [0.05 0.95]\n",
      " [0.64 0.36]\n",
      " [0.53 0.47]\n",
      " [0.4  0.6 ]\n",
      " [0.08 0.92]\n",
      " [0.08 0.92]\n",
      " [0.   1.  ]\n",
      " [0.02 0.98]\n",
      " [0.09 0.91]\n",
      " [0.25 0.75]\n",
      " [0.35 0.65]\n",
      " [0.25 0.75]\n",
      " [0.27 0.73]\n",
      " [0.04 0.96]\n",
      " [0.18 0.82]\n",
      " [0.19 0.81]\n",
      " [0.17 0.83]\n",
      " [0.09 0.91]\n",
      " [0.24 0.76]\n",
      " [0.15 0.85]\n",
      " [0.23 0.77]\n",
      " [0.78 0.22]\n",
      " [0.   1.  ]\n",
      " [0.02 0.98]\n",
      " [0.4  0.6 ]\n",
      " [0.41 0.59]\n",
      " [0.05 0.95]\n",
      " [0.41 0.59]\n",
      " [0.52 0.48]\n",
      " [0.5  0.5 ]\n",
      " [0.43 0.57]\n",
      " [0.01 0.99]\n",
      " [0.24 0.76]\n",
      " [0.02 0.98]\n",
      " [0.08 0.92]\n",
      " [0.63 0.37]\n",
      " [0.44 0.56]\n",
      " [0.2  0.8 ]\n",
      " [0.41 0.59]\n",
      " [0.54 0.46]\n",
      " [0.   1.  ]\n",
      " [0.46 0.54]\n",
      " [0.47 0.53]\n",
      " [0.01 0.99]\n",
      " [0.6  0.4 ]\n",
      " [0.21 0.79]\n",
      " [0.22 0.78]\n",
      " [0.66 0.34]\n",
      " [0.28 0.72]\n",
      " [0.46 0.54]\n",
      " [0.01 0.99]\n",
      " [0.42 0.58]\n",
      " [0.45 0.55]\n",
      " [0.34 0.66]\n",
      " [0.28 0.72]\n",
      " [0.01 0.99]\n",
      " [0.05 0.95]\n",
      " [0.63 0.37]\n",
      " [0.02 0.98]\n",
      " [0.   1.  ]\n",
      " [0.01 0.99]\n",
      " [0.28 0.72]\n",
      " [0.06 0.94]\n",
      " [0.01 0.99]\n",
      " [0.02 0.98]\n",
      " [0.03 0.97]\n",
      " [0.44 0.56]\n",
      " [0.13 0.87]\n",
      " [0.   1.  ]\n",
      " [0.55 0.45]\n",
      " [0.05 0.95]\n",
      " [0.16 0.84]\n",
      " [0.11 0.89]\n",
      " [0.13 0.87]\n",
      " [0.12 0.88]\n",
      " [0.08 0.92]\n",
      " [0.54 0.46]\n",
      " [0.2  0.8 ]\n",
      " [0.44 0.56]\n",
      " [0.05 0.95]]\n"
     ]
    },
    {
     "name": "stderr",
     "output_type": "stream",
     "text": [
      "C:\\Anaconda3\\lib\\site-packages\\ipykernel_launcher.py:5: DataConversionWarning: A column-vector y was passed when a 1d array was expected. Please change the shape of y to (n_samples,), for example using ravel().\n",
      "  \"\"\"\n"
     ]
    }
   ],
   "source": [
    "#Import ExtraTreesClassifier to boost accurcy\n",
    "from sklearn.ensemble import ExtraTreesClassifier\n",
    "\n",
    "clf = ExtraTreesClassifier(n_estimators=100, random_state=0)\n",
    "clf.fit(x_train, y_train)\n",
    "ExtraTreesClassifier(random_state=0)\n",
    "\n",
    "y_pred = clf.predict_proba(x_test)\n",
    "print(y_pred)\n"
   ]
  }
 ],
 "metadata": {
  "kernelspec": {
   "display_name": "Python 3",
   "language": "python",
   "name": "python3"
  },
  "language_info": {
   "codemirror_mode": {
    "name": "ipython",
    "version": 3
   },
   "file_extension": ".py",
   "mimetype": "text/x-python",
   "name": "python",
   "nbconvert_exporter": "python",
   "pygments_lexer": "ipython3",
   "version": "3.7.4"
  }
 },
 "nbformat": 4,
 "nbformat_minor": 2
}
